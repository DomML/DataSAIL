{
 "cells": [
  {
   "cell_type": "markdown",
   "metadata": {},
   "source": [
    "# Split HIV by Weight\n",
    "\n",
    "In this example notebook, we will discuss how to use DataSAIL to compute split for the QM9 dataset to compute more challenging splits for machine learning models. Therefore, we first import all necessary tools."
   ]
  },
  {
   "cell_type": "code",
   "execution_count": null,
   "metadata": {
    "pycharm": {
     "is_executing": true
    }
   },
   "outputs": [],
   "source": [
    "%%capture\n",
    "import deepchem as dc\n",
    "import numpy as np\n",
    "from rdkit import Chem\n",
    "from rdkit.Chem.Descriptors import ExactMolWt\n",
    "from datasail.sail import datasail"
   ]
  },
  {
   "cell_type": "markdown",
   "metadata": {},
   "source": [
    "### Load the Dataset\n",
    "\n",
    "Load the dataset from deepchem. As the deepchem dataset contains the targets of QM9 as y1 to y12 as well as weights for every task. Therefore, we rename the targets and remove the weights. Finally, we also convert all RDKit molecules to SMILES strings."
   ]
  },
  {
   "cell_type": "code",
   "execution_count": 2,
   "metadata": {},
   "outputs": [
    {
     "data": {
      "text/plain": "               ID                                             SMILES  \\\n0      Comp000001  CCC1=[O+][Cu-3]2([O+]=C(CC)C1)[O+]=C(CC)CC(CC)...   \n1      Comp000002  C(=Cc1ccccc1)C1=[O+][Cu-3]2([O+]=C(C=Cc3ccccc3...   \n2      Comp000003                   CC(=O)N1c2ccccc2Sc2c1ccc1ccccc21   \n3      Comp000004    Nc1ccc(C=Cc2ccc(N)cc2S(=O)(=O)O)c(S(=O)(=O)O)c1   \n4      Comp000005                             O=S(=O)(O)CCS(=O)(=O)O   \n...           ...                                                ...   \n41122  Comp041123  CCC1CCC2c3c([nH]c4ccc(C)cc34)C3C(=O)N(N(C)C)C(...   \n41123  Comp041124  Cc1ccc2[nH]c3c(c2c1)C1CCC(C(C)(C)C)CC1C1C(=O)N...   \n41124  Comp041125  Cc1ccc(N2C(=O)C3c4[nH]c5ccccc5c4C4CCC(C(C)(C)C...   \n41125  Comp041126  Cc1cccc(N2C(=O)C3c4[nH]c5ccccc5c4C4CCC(C(C)(C)...   \n41126  Comp041127  CCCCCC=C(c1cc(Cl)c(OC)c(-c2nc(C)no2)c1)c1cc(Cl...   \n\n       HIV_active  \n0             0.0  \n1             0.0  \n2             0.0  \n3             0.0  \n4             0.0  \n...           ...  \n41122         0.0  \n41123         0.0  \n41124         0.0  \n41125         0.0  \n41126         0.0  \n\n[41127 rows x 3 columns]",
      "text/html": "<div>\n<style scoped>\n    .dataframe tbody tr th:only-of-type {\n        vertical-align: middle;\n    }\n\n    .dataframe tbody tr th {\n        vertical-align: top;\n    }\n\n    .dataframe thead th {\n        text-align: right;\n    }\n</style>\n<table border=\"1\" class=\"dataframe\">\n  <thead>\n    <tr style=\"text-align: right;\">\n      <th></th>\n      <th>ID</th>\n      <th>SMILES</th>\n      <th>HIV_active</th>\n    </tr>\n  </thead>\n  <tbody>\n    <tr>\n      <th>0</th>\n      <td>Comp000001</td>\n      <td>CCC1=[O+][Cu-3]2([O+]=C(CC)C1)[O+]=C(CC)CC(CC)...</td>\n      <td>0.0</td>\n    </tr>\n    <tr>\n      <th>1</th>\n      <td>Comp000002</td>\n      <td>C(=Cc1ccccc1)C1=[O+][Cu-3]2([O+]=C(C=Cc3ccccc3...</td>\n      <td>0.0</td>\n    </tr>\n    <tr>\n      <th>2</th>\n      <td>Comp000003</td>\n      <td>CC(=O)N1c2ccccc2Sc2c1ccc1ccccc21</td>\n      <td>0.0</td>\n    </tr>\n    <tr>\n      <th>3</th>\n      <td>Comp000004</td>\n      <td>Nc1ccc(C=Cc2ccc(N)cc2S(=O)(=O)O)c(S(=O)(=O)O)c1</td>\n      <td>0.0</td>\n    </tr>\n    <tr>\n      <th>4</th>\n      <td>Comp000005</td>\n      <td>O=S(=O)(O)CCS(=O)(=O)O</td>\n      <td>0.0</td>\n    </tr>\n    <tr>\n      <th>...</th>\n      <td>...</td>\n      <td>...</td>\n      <td>...</td>\n    </tr>\n    <tr>\n      <th>41122</th>\n      <td>Comp041123</td>\n      <td>CCC1CCC2c3c([nH]c4ccc(C)cc34)C3C(=O)N(N(C)C)C(...</td>\n      <td>0.0</td>\n    </tr>\n    <tr>\n      <th>41123</th>\n      <td>Comp041124</td>\n      <td>Cc1ccc2[nH]c3c(c2c1)C1CCC(C(C)(C)C)CC1C1C(=O)N...</td>\n      <td>0.0</td>\n    </tr>\n    <tr>\n      <th>41124</th>\n      <td>Comp041125</td>\n      <td>Cc1ccc(N2C(=O)C3c4[nH]c5ccccc5c4C4CCC(C(C)(C)C...</td>\n      <td>0.0</td>\n    </tr>\n    <tr>\n      <th>41125</th>\n      <td>Comp041126</td>\n      <td>Cc1cccc(N2C(=O)C3c4[nH]c5ccccc5c4C4CCC(C(C)(C)...</td>\n      <td>0.0</td>\n    </tr>\n    <tr>\n      <th>41126</th>\n      <td>Comp041127</td>\n      <td>CCCCCC=C(c1cc(Cl)c(OC)c(-c2nc(C)no2)c1)c1cc(Cl...</td>\n      <td>0.0</td>\n    </tr>\n  </tbody>\n</table>\n<p>41127 rows × 3 columns</p>\n</div>"
     },
     "execution_count": 2,
     "metadata": {},
     "output_type": "execute_result"
    }
   ],
   "source": [
    "dataset = dc.molnet.load_hiv(featurizer=dc.feat.DummyFeaturizer(), splitter=None)[1][0]\n",
    "df = dataset.to_dataframe()\n",
    "df.rename(columns=dict([(\"y\", dataset.tasks[0]), (\"X\", \"SMILES\")]), inplace=True)\n",
    "df[\"ID\"] = [f\"Comp{i + 1:06d}\" for i in range(len(df))]\n",
    "df = df[[\"ID\", \"SMILES\"] + dataset.tasks.tolist()]\n",
    "df"
   ]
  },
  {
   "cell_type": "markdown",
   "metadata": {},
   "source": [
    "### Run DataSAIL\n",
    "\n",
    "Use DataSAIL to split the data into an identity-based single cold split (ICSe) and a cluster-based single cold split (CCSe). We define\n",
    "  - the techniques as list: ICSe abd CCSe\n",
    "    The e in the end is important to split the e-data.\n",
    "  - the spits as list. The values will be normalized to ratios.\n",
    "  - the names as list. Similarly to the list of split sizes, DataSAIL needs names to name the splits.\n",
    "  - the number of runs. This will determine how many different splits to compute per technique to compute.\n",
    "  - the solving algorithm for optimizing the final problem formulation.\n",
    "  - the type of the dataset in the first axis.\n",
    "  - the data as mapping from IDs to SMILES strings.\n",
    "  \n",
    "For an extensive description of the arguments please refer to the according pages of the documentation."
   ]
  },
  {
   "cell_type": "code",
   "execution_count": 3,
   "metadata": {
    "scrolled": true
   },
   "outputs": [
    {
     "ename": "TypeError",
     "evalue": "object of type 'NoneType' has no len()",
     "output_type": "error",
     "traceback": [
      "\u001B[0;31m---------------------------------------------------------------------------\u001B[0m",
      "\u001B[0;31mTypeError\u001B[0m                                 Traceback (most recent call last)",
      "Cell \u001B[0;32mIn[3], line 6\u001B[0m\n\u001B[1;32m      4\u001B[0m     \u001B[38;5;28;01mfor\u001B[39;00m j \u001B[38;5;129;01min\u001B[39;00m \u001B[38;5;28mrange\u001B[39m(i \u001B[38;5;241m+\u001B[39m \u001B[38;5;241m1\u001B[39m, \u001B[38;5;28mlen\u001B[39m(weights)):\n\u001B[1;32m      5\u001B[0m         dist_mat \u001B[38;5;241m=\u001B[39m \u001B[38;5;28mabs\u001B[39m(weights[i] \u001B[38;5;241m-\u001B[39m weights[j])\n\u001B[0;32m----> 6\u001B[0m e_splits, f_splits, inter_splits \u001B[38;5;241m=\u001B[39m \u001B[43mdatasail\u001B[49m\u001B[43m(\u001B[49m\n\u001B[1;32m      7\u001B[0m \u001B[43m    \u001B[49m\u001B[43mtechniques\u001B[49m\u001B[38;5;241;43m=\u001B[39;49m\u001B[43m[\u001B[49m\u001B[38;5;124;43m\"\u001B[39;49m\u001B[38;5;124;43mICSe\u001B[39;49m\u001B[38;5;124;43m\"\u001B[39;49m\u001B[43m,\u001B[49m\u001B[43m \u001B[49m\u001B[38;5;124;43m\"\u001B[39;49m\u001B[38;5;124;43mCCSe\u001B[39;49m\u001B[38;5;124;43m\"\u001B[39;49m\u001B[43m]\u001B[49m\u001B[43m,\u001B[49m\n\u001B[1;32m      8\u001B[0m \u001B[43m    \u001B[49m\u001B[43msplits\u001B[49m\u001B[38;5;241;43m=\u001B[39;49m\u001B[43m[\u001B[49m\u001B[38;5;241;43m7\u001B[39;49m\u001B[43m,\u001B[49m\u001B[43m \u001B[49m\u001B[38;5;241;43m2\u001B[39;49m\u001B[43m,\u001B[49m\u001B[43m \u001B[49m\u001B[38;5;241;43m1\u001B[39;49m\u001B[43m]\u001B[49m\u001B[43m,\u001B[49m\u001B[43m \u001B[49m\n\u001B[1;32m      9\u001B[0m \u001B[43m    \u001B[49m\u001B[43mnames\u001B[49m\u001B[38;5;241;43m=\u001B[39;49m\u001B[43m[\u001B[49m\u001B[38;5;124;43m\"\u001B[39;49m\u001B[38;5;124;43mtrain\u001B[39;49m\u001B[38;5;124;43m\"\u001B[39;49m\u001B[43m,\u001B[49m\u001B[38;5;124;43m\"\u001B[39;49m\u001B[38;5;124;43mval\u001B[39;49m\u001B[38;5;124;43m\"\u001B[39;49m\u001B[43m,\u001B[49m\u001B[43m \u001B[49m\u001B[38;5;124;43m\"\u001B[39;49m\u001B[38;5;124;43mtest\u001B[39;49m\u001B[38;5;124;43m\"\u001B[39;49m\u001B[43m]\u001B[49m\u001B[43m,\u001B[49m\u001B[43m \u001B[49m\n\u001B[1;32m     10\u001B[0m \u001B[43m    \u001B[49m\u001B[43mruns\u001B[49m\u001B[38;5;241;43m=\u001B[39;49m\u001B[38;5;241;43m3\u001B[39;49m\u001B[43m,\u001B[49m\u001B[43m \u001B[49m\n\u001B[1;32m     11\u001B[0m \u001B[43m    \u001B[49m\u001B[43msolver\u001B[49m\u001B[38;5;241;43m=\u001B[39;49m\u001B[38;5;124;43m\"\u001B[39;49m\u001B[38;5;124;43mMOSEK\u001B[39;49m\u001B[38;5;124;43m\"\u001B[39;49m\u001B[43m,\u001B[49m\n\u001B[1;32m     12\u001B[0m \u001B[43m    \u001B[49m\u001B[43me_type\u001B[49m\u001B[38;5;241;43m=\u001B[39;49m\u001B[38;5;124;43m\"\u001B[39;49m\u001B[38;5;124;43mM\u001B[39;49m\u001B[38;5;124;43m\"\u001B[39;49m\u001B[43m,\u001B[49m\n\u001B[1;32m     13\u001B[0m \u001B[43m    \u001B[49m\u001B[43me_data\u001B[49m\u001B[38;5;241;43m=\u001B[39;49m\u001B[38;5;28;43mdict\u001B[39;49m\u001B[43m(\u001B[49m\u001B[43mdf\u001B[49m\u001B[43m[\u001B[49m\u001B[43m[\u001B[49m\u001B[38;5;124;43m\"\u001B[39;49m\u001B[38;5;124;43mID\u001B[39;49m\u001B[38;5;124;43m\"\u001B[39;49m\u001B[43m,\u001B[49m\u001B[43m \u001B[49m\u001B[38;5;124;43m\"\u001B[39;49m\u001B[38;5;124;43mSMILES\u001B[39;49m\u001B[38;5;124;43m\"\u001B[39;49m\u001B[43m]\u001B[49m\u001B[43m]\u001B[49m\u001B[38;5;241;43m.\u001B[39;49m\u001B[43mvalues\u001B[49m\u001B[38;5;241;43m.\u001B[39;49m\u001B[43mtolist\u001B[49m\u001B[43m(\u001B[49m\u001B[43m)\u001B[49m\u001B[43m)\u001B[49m\u001B[43m,\u001B[49m\n\u001B[1;32m     14\u001B[0m \u001B[43m    \u001B[49m\u001B[43me_dist\u001B[49m\u001B[38;5;241;43m=\u001B[39;49m\u001B[43m(\u001B[49m\u001B[43mdf\u001B[49m\u001B[43m[\u001B[49m\u001B[38;5;124;43m\"\u001B[39;49m\u001B[38;5;124;43mID\u001B[39;49m\u001B[38;5;124;43m\"\u001B[39;49m\u001B[43m]\u001B[49m\u001B[38;5;241;43m.\u001B[39;49m\u001B[43mvalues\u001B[49m\u001B[38;5;241;43m.\u001B[39;49m\u001B[43mtolist\u001B[49m\u001B[43m(\u001B[49m\u001B[43m)\u001B[49m\u001B[43m,\u001B[49m\u001B[43m \u001B[49m\u001B[43mdist_mat\u001B[49m\u001B[43m)\u001B[49m\u001B[43m,\u001B[49m\n\u001B[1;32m     15\u001B[0m \u001B[43m)\u001B[49m\n",
      "File \u001B[0;32m~/Desktop/DataSAIL/datasail/sail.py:290\u001B[0m, in \u001B[0;36mdatasail\u001B[0;34m(techniques, inter, max_sec, max_sol, verbose, splits, names, epsilon, runs, solver, vectorized, cache, cache_dir, e_type, e_data, e_weights, e_sim, e_dist, e_args, e_max_sim, e_max_dist, f_type, f_data, f_weights, f_sim, f_dist, f_args, f_max_sim, f_max_dist, threads)\u001B[0m\n\u001B[1;32m    281\u001B[0m     splits \u001B[38;5;241m=\u001B[39m [\u001B[38;5;241m0.7\u001B[39m, \u001B[38;5;241m0.2\u001B[39m, \u001B[38;5;241m0.1\u001B[39m]\n\u001B[1;32m    282\u001B[0m kwargs \u001B[38;5;241m=\u001B[39m validate_args(\n\u001B[1;32m    283\u001B[0m     output\u001B[38;5;241m=\u001B[39m\u001B[38;5;28;01mNone\u001B[39;00m, techniques\u001B[38;5;241m=\u001B[39mtechniques, inter\u001B[38;5;241m=\u001B[39minter, max_sec\u001B[38;5;241m=\u001B[39mmax_sec, max_sol\u001B[38;5;241m=\u001B[39mmax_sol, verbosity\u001B[38;5;241m=\u001B[39mverbose,\n\u001B[1;32m    284\u001B[0m     splits\u001B[38;5;241m=\u001B[39msplits, names\u001B[38;5;241m=\u001B[39mnames, epsilon\u001B[38;5;241m=\u001B[39mepsilon, runs\u001B[38;5;241m=\u001B[39mruns, solver\u001B[38;5;241m=\u001B[39msolver, vectorized\u001B[38;5;241m=\u001B[39m\u001B[38;5;129;01mnot\u001B[39;00m vectorized, cache\u001B[38;5;241m=\u001B[39mcache,\n\u001B[0;32m   (...)\u001B[0m\n\u001B[1;32m    288\u001B[0m     cli\u001B[38;5;241m=\u001B[39m\u001B[38;5;28;01mFalse\u001B[39;00m,\n\u001B[1;32m    289\u001B[0m )\n\u001B[0;32m--> 290\u001B[0m \u001B[38;5;28;01mreturn\u001B[39;00m \u001B[43mdatasail_main\u001B[49m\u001B[43m(\u001B[49m\u001B[38;5;241;43m*\u001B[39;49m\u001B[38;5;241;43m*\u001B[39;49m\u001B[43mkwargs\u001B[49m\u001B[43m)\u001B[49m\n",
      "File \u001B[0;32m~/Desktop/DataSAIL/datasail/run.py:37\u001B[0m, in \u001B[0;36mdatasail_main\u001B[0;34m(**kwargs)\u001B[0m\n\u001B[1;32m     35\u001B[0m     LOGGER\u001B[38;5;241m.\u001B[39minfo(\u001B[38;5;124m\"\u001B[39m\u001B[38;5;124mCluster second set of entities.\u001B[39m\u001B[38;5;124m\"\u001B[39m)\n\u001B[1;32m     36\u001B[0m     f_dataset \u001B[38;5;241m=\u001B[39m cluster(f_dataset, \u001B[38;5;241m*\u001B[39m\u001B[38;5;241m*\u001B[39mkwargs)\n\u001B[0;32m---> 37\u001B[0m \u001B[38;5;28mprint\u001B[39m(\u001B[38;5;28;43mlen\u001B[39;49m\u001B[43m(\u001B[49m\u001B[43me_dataset\u001B[49m\u001B[38;5;241;43m.\u001B[39;49m\u001B[43mcluster_names\u001B[49m\u001B[43m)\u001B[49m)\n\u001B[1;32m     39\u001B[0m \u001B[38;5;28;01mif\u001B[39;00m inter \u001B[38;5;129;01mis\u001B[39;00m \u001B[38;5;129;01mnot\u001B[39;00m \u001B[38;5;28;01mNone\u001B[39;00m:\n\u001B[1;32m     40\u001B[0m     \u001B[38;5;28;01mif\u001B[39;00m e_dataset\u001B[38;5;241m.\u001B[39mtype \u001B[38;5;129;01mis\u001B[39;00m \u001B[38;5;129;01mnot\u001B[39;00m \u001B[38;5;28;01mNone\u001B[39;00m \u001B[38;5;129;01mand\u001B[39;00m f_dataset\u001B[38;5;241m.\u001B[39mtype \u001B[38;5;129;01mis\u001B[39;00m \u001B[38;5;129;01mnot\u001B[39;00m \u001B[38;5;28;01mNone\u001B[39;00m:\n",
      "\u001B[0;31mTypeError\u001B[0m: object of type 'NoneType' has no len()"
     ]
    }
   ],
   "source": [
    "%%capture\n",
    "# Compute the distance matrix of the weights for each pair of molecule\n",
    "dist_mat = np.zeros((len(df), len(df)))\n",
    "weights = [ExactMolWt(Chem.MolFromSmiles(s)) for s in df[\"SMILES\"].values.tolist()]\n",
    "for i in range(len(weights)):\n",
    "    for j in range(i + 1, len(weights)):\n",
    "        dist_mat = abs(weights[i] - weights[j])\n",
    "\n",
    "# Use this matrix together with a list of names (i.e. the ids of the molecules in order of the matrix) as distance metric in DataSAIL.\n",
    "e_splits, f_splits, inter_splits = datasail(\n",
    "    techniques=[\"ICSe\", \"CCSe\"],\n",
    "    splits=[7, 2, 1], \n",
    "    names=[\"train\",\"val\", \"test\"], \n",
    "    runs=3, \n",
    "    solver=\"MOSEK\",\n",
    "    e_type=\"M\",\n",
    "    e_data=dict(df[[\"ID\", \"SMILES\"]].values.tolist()),\n",
    "    e_dist=(df[\"ID\"].values.tolist(), dist_mat),\n",
    ")"
   ]
  },
  {
   "cell_type": "markdown",
   "metadata": {},
   "source": [
    "## The output\n",
    "\n",
    "Finally, we inspect the e_split object as this holds all the assignments of the datapoints to the splits, for each run and each technique. First, the overall architecture is described, lastly we look at the first five assignments of the CCS run 0."
   ]
  },
  {
   "cell_type": "code",
   "execution_count": 4,
   "metadata": {},
   "outputs": [
    {
     "ename": "NameError",
     "evalue": "name 'e_splits' is not defined",
     "output_type": "error",
     "traceback": [
      "\u001B[0;31m---------------------------------------------------------------------------\u001B[0m",
      "\u001B[0;31mNameError\u001B[0m                                 Traceback (most recent call last)",
      "Cell \u001B[0;32mIn[4], line 1\u001B[0m\n\u001B[0;32m----> 1\u001B[0m \u001B[38;5;28mprint\u001B[39m(\u001B[38;5;28mtype\u001B[39m(\u001B[43me_splits\u001B[49m))\n\u001B[1;32m      2\u001B[0m \u001B[38;5;28;01mfor\u001B[39;00m key \u001B[38;5;129;01min\u001B[39;00m e_splits\u001B[38;5;241m.\u001B[39mkeys():\n\u001B[1;32m      3\u001B[0m     \u001B[38;5;28mprint\u001B[39m(\u001B[38;5;124mf\u001B[39m\u001B[38;5;124m\"\u001B[39m\u001B[38;5;132;01m{\u001B[39;00mkey\u001B[38;5;132;01m}\u001B[39;00m\u001B[38;5;124m - Type: \u001B[39m\u001B[38;5;132;01m{\u001B[39;00m\u001B[38;5;28mtype\u001B[39m(e_splits[key])\u001B[38;5;132;01m}\u001B[39;00m\u001B[38;5;124m - Length: \u001B[39m\u001B[38;5;132;01m{\u001B[39;00m\u001B[38;5;28mlen\u001B[39m(e_splits[key])\u001B[38;5;132;01m}\u001B[39;00m\u001B[38;5;124m\"\u001B[39m)\n",
      "\u001B[0;31mNameError\u001B[0m: name 'e_splits' is not defined"
     ]
    }
   ],
   "source": [
    "print(type(e_splits))\n",
    "for key in e_splits.keys():\n",
    "    print(f\"{key} - Type: {type(e_splits[key])} - Length: {len(e_splits[key])}\")\n",
    "    for run in range(len(e_splits[key])):\n",
    "        print(f\"\\tRun {run + 1} - Type: {type(e_splits[key][run])} - {len(e_splits[key][run])} assignments\")\n",
    "print(\"\\n\" + \"\\n\".join(f\"ID: {idx} - Split: {split}\" for idx, split in list(e_splits[key][0].items())[:5]))"
   ]
  }
 ],
 "metadata": {
  "kernelspec": {
   "display_name": "Python 3 (ipykernel)",
   "language": "python",
   "name": "python3"
  },
  "language_info": {
   "codemirror_mode": {
    "name": "ipython",
    "version": 3
   },
   "file_extension": ".py",
   "mimetype": "text/x-python",
   "name": "python",
   "nbconvert_exporter": "python",
   "pygments_lexer": "ipython3",
   "version": "3.10.0"
  }
 },
 "nbformat": 4,
 "nbformat_minor": 1
}
